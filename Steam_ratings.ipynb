{
 "cells": [
  {
   "cell_type": "code",
   "execution_count": 53,
   "id": "0aebb69a-d94b-4098-a7b7-cbbd350b4ffe",
   "metadata": {},
   "outputs": [],
   "source": [
    "import pandas as pd\n",
    "from matplotlib import pyplot as plt\n",
    "import seaborn as sns\n",
    "\n",
    "description= pd.read_csv('games_description.csv')\n",
    "ranking= pd.read_csv('games_ranking.csv')\n",
    "reviews= pd.read_csv('steam_game_reviews.csv', low_memory= False)"
   ]
  },
  {
   "cell_type": "code",
   "execution_count": 54,
   "id": "74f54eee-a815-4786-ae94-fd5fb1aed65b",
   "metadata": {},
   "outputs": [],
   "source": [
    "description= description.drop(['short_description'], axis= 1)\n",
    "description= description.drop(['long_description'], axis= 1)"
   ]
  },
  {
   "cell_type": "code",
   "execution_count": 72,
   "id": "369f787f-b2f2-4645-a4db-3251eaec8183",
   "metadata": {},
   "outputs": [],
   "source": [
    "import numpy as np\n",
    "#Changing player to number for aggregatting purposes\n",
    "description.overall_player_rating= description.overall_player_rating.replace({'Overwhelmingly Positive': 1, 'Very Positive': 2, 'Mostly Positive': 3, 'Positive': 4, 'Mixed': 5, 'Mostly Negative': 6, 'Very Negative': 7, '7 user reviews': np.nan, '1 user reviews': np.nan, '6 user reviews': np.nan, '4 user reviews': np.nan})\n",
    "description.rename(columns= {'minimum_system_requirement': 'minimum', 'recommend_system_requirement': 'recommended', 'number_of_reviews_from_purchased_people': 'reviews', 'number_of_english_reviews': 'english_reviews'}, inplace=True)\n",
    "description= description.drop(['link'], axis= 1)"
   ]
  },
  {
   "cell_type": "code",
   "execution_count": 73,
   "id": "34a4e017-f777-4d19-816d-87b9428551bf",
   "metadata": {},
   "outputs": [],
   "source": [
    "description.to_csv('description_update.csv')"
   ]
  },
  {
   "cell_type": "code",
   "execution_count": 83,
   "id": "81d40f3c-2df2-44b8-95db-2048b14e2b70",
   "metadata": {},
   "outputs": [],
   "source": [
    "reviews= reviews.drop(['review', 'funny', 'username'], axis= 1)"
   ]
  },
  {
   "cell_type": "code",
   "execution_count": 85,
   "id": "50bf44b5-053d-4619-b9b1-0d1c4a05a7ee",
   "metadata": {},
   "outputs": [],
   "source": [
    "reviews.to_csv('updated_reviews.csv')"
   ]
  },
  {
   "cell_type": "code",
   "execution_count": 108,
   "id": "1a98db49-66f3-4ad1-ba40-a6b3fb4515ac",
   "metadata": {},
   "outputs": [],
   "source": [
    "#Broke up the ranking data frame into it's seperate ranking statistics\n",
    "ranking_sales= ranking[ranking.rank_type == 'Sales']\n",
    "ranking_revenue= ranking[ranking.rank_type == 'Revenue']\n",
    "ranking_review= ranking[ranking.rank_type == 'Review']"
   ]
  },
  {
   "cell_type": "code",
   "execution_count": 102,
   "id": "008dd60b-afac-4c80-af4d-8cf3f3e1164e",
   "metadata": {},
   "outputs": [
    {
     "data": {
      "image/png": "[encoded data removed]",
      "text/plain": [
       "<Figure size 640x480 with 1 Axes>"
      ]
     },
     "metadata": {},
     "output_type": "display_data"
    },
    {
     "data": {
      "text/plain": [
       "<Figure size 640x480 with 0 Axes>"
      ]
     },
     "metadata": {},
     "output_type": "display_data"
    }
   ],
   "source": [
    "plt.hist(description.overall_player_rating, label= 'Player Rating', color= 'blue', bins= 7)\n",
    "plt.title('Games by player ratings')\n",
    "plt.xlabel('Ratings')\n",
    "plt.show()\n",
    "plt.clf()"
   ]
  },
  {
   "cell_type": "code",
   "execution_count": null,
   "id": "a1a5b91d-f1db-4ad6-9e1c-9b6b113fafb4",
   "metadata": {},
   "outputs": [],
   "source": []
  }
 ],
 "metadata": {
  "kernelspec": {
   "display_name": "Python 3 (ipykernel)",
   "language": "python",
   "name": "python3"
  },
  "language_info": {
   "codemirror_mode": {
    "name": "ipython",
    "version": 3
   },
   "file_extension": ".py",
   "mimetype": "text/x-python",
   "name": "python",
   "nbconvert_exporter": "python",
   "pygments_lexer": "ipython3",
   "version": "3.12.3"
  }
 },
 "nbformat": 4,
 "nbformat_minor": 5
}
